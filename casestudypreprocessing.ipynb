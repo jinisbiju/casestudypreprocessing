{
 "cells": [
  {
   "cell_type": "code",
   "execution_count": 1,
   "id": "8a191a9d",
   "metadata": {},
   "outputs": [],
   "source": [
    "import pandas as pd"
   ]
  },
  {
   "cell_type": "markdown",
   "id": "7750cb8f",
   "metadata": {},
   "source": [
    "# 1.Load the dataset into python environment"
   ]
  },
  {
   "cell_type": "code",
   "execution_count": 2,
   "id": "aa08a3a4",
   "metadata": {},
   "outputs": [],
   "source": [
    "data=pd.read_csv(\"titanic_dataset.csv\")"
   ]
  },
  {
   "cell_type": "code",
   "execution_count": 3,
   "id": "3ea98826",
   "metadata": {},
   "outputs": [
    {
     "data": {
      "text/html": [
       "<div>\n",
       "<style scoped>\n",
       "    .dataframe tbody tr th:only-of-type {\n",
       "        vertical-align: middle;\n",
       "    }\n",
       "\n",
       "    .dataframe tbody tr th {\n",
       "        vertical-align: top;\n",
       "    }\n",
       "\n",
       "    .dataframe thead th {\n",
       "        text-align: right;\n",
       "    }\n",
       "</style>\n",
       "<table border=\"1\" class=\"dataframe\">\n",
       "  <thead>\n",
       "    <tr style=\"text-align: right;\">\n",
       "      <th></th>\n",
       "      <th>PassengerId</th>\n",
       "      <th>Survived</th>\n",
       "      <th>Pclass</th>\n",
       "      <th>Name</th>\n",
       "      <th>Sex</th>\n",
       "      <th>Age</th>\n",
       "      <th>SibSp</th>\n",
       "      <th>Parch</th>\n",
       "      <th>Ticket</th>\n",
       "      <th>Fare</th>\n",
       "      <th>Cabin</th>\n",
       "      <th>Embarked</th>\n",
       "    </tr>\n",
       "  </thead>\n",
       "  <tbody>\n",
       "    <tr>\n",
       "      <th>0</th>\n",
       "      <td>1</td>\n",
       "      <td>0</td>\n",
       "      <td>3</td>\n",
       "      <td>Braund, Mr. Owen Harris</td>\n",
       "      <td>male</td>\n",
       "      <td>22.0</td>\n",
       "      <td>1</td>\n",
       "      <td>0</td>\n",
       "      <td>A/5 21171</td>\n",
       "      <td>7.2500</td>\n",
       "      <td>NaN</td>\n",
       "      <td>S</td>\n",
       "    </tr>\n",
       "    <tr>\n",
       "      <th>1</th>\n",
       "      <td>2</td>\n",
       "      <td>1</td>\n",
       "      <td>1</td>\n",
       "      <td>Cumings, Mrs. John Bradley (Florence Briggs Th...</td>\n",
       "      <td>female</td>\n",
       "      <td>38.0</td>\n",
       "      <td>1</td>\n",
       "      <td>0</td>\n",
       "      <td>PC 17599</td>\n",
       "      <td>71.2833</td>\n",
       "      <td>C85</td>\n",
       "      <td>C</td>\n",
       "    </tr>\n",
       "    <tr>\n",
       "      <th>2</th>\n",
       "      <td>3</td>\n",
       "      <td>1</td>\n",
       "      <td>3</td>\n",
       "      <td>Heikkinen, Miss. Laina</td>\n",
       "      <td>female</td>\n",
       "      <td>26.0</td>\n",
       "      <td>0</td>\n",
       "      <td>0</td>\n",
       "      <td>STON/O2. 3101282</td>\n",
       "      <td>7.9250</td>\n",
       "      <td>NaN</td>\n",
       "      <td>S</td>\n",
       "    </tr>\n",
       "    <tr>\n",
       "      <th>3</th>\n",
       "      <td>4</td>\n",
       "      <td>1</td>\n",
       "      <td>1</td>\n",
       "      <td>Futrelle, Mrs. Jacques Heath (Lily May Peel)</td>\n",
       "      <td>female</td>\n",
       "      <td>35.0</td>\n",
       "      <td>1</td>\n",
       "      <td>0</td>\n",
       "      <td>113803</td>\n",
       "      <td>53.1000</td>\n",
       "      <td>C123</td>\n",
       "      <td>S</td>\n",
       "    </tr>\n",
       "    <tr>\n",
       "      <th>4</th>\n",
       "      <td>5</td>\n",
       "      <td>0</td>\n",
       "      <td>3</td>\n",
       "      <td>Allen, Mr. William Henry</td>\n",
       "      <td>male</td>\n",
       "      <td>35.0</td>\n",
       "      <td>0</td>\n",
       "      <td>0</td>\n",
       "      <td>373450</td>\n",
       "      <td>8.0500</td>\n",
       "      <td>NaN</td>\n",
       "      <td>S</td>\n",
       "    </tr>\n",
       "    <tr>\n",
       "      <th>...</th>\n",
       "      <td>...</td>\n",
       "      <td>...</td>\n",
       "      <td>...</td>\n",
       "      <td>...</td>\n",
       "      <td>...</td>\n",
       "      <td>...</td>\n",
       "      <td>...</td>\n",
       "      <td>...</td>\n",
       "      <td>...</td>\n",
       "      <td>...</td>\n",
       "      <td>...</td>\n",
       "      <td>...</td>\n",
       "    </tr>\n",
       "    <tr>\n",
       "      <th>886</th>\n",
       "      <td>887</td>\n",
       "      <td>0</td>\n",
       "      <td>2</td>\n",
       "      <td>Montvila, Rev. Juozas</td>\n",
       "      <td>male</td>\n",
       "      <td>27.0</td>\n",
       "      <td>0</td>\n",
       "      <td>0</td>\n",
       "      <td>211536</td>\n",
       "      <td>13.0000</td>\n",
       "      <td>NaN</td>\n",
       "      <td>S</td>\n",
       "    </tr>\n",
       "    <tr>\n",
       "      <th>887</th>\n",
       "      <td>888</td>\n",
       "      <td>1</td>\n",
       "      <td>1</td>\n",
       "      <td>Graham, Miss. Margaret Edith</td>\n",
       "      <td>female</td>\n",
       "      <td>19.0</td>\n",
       "      <td>0</td>\n",
       "      <td>0</td>\n",
       "      <td>112053</td>\n",
       "      <td>30.0000</td>\n",
       "      <td>B42</td>\n",
       "      <td>S</td>\n",
       "    </tr>\n",
       "    <tr>\n",
       "      <th>888</th>\n",
       "      <td>889</td>\n",
       "      <td>0</td>\n",
       "      <td>3</td>\n",
       "      <td>Johnston, Miss. Catherine Helen \"Carrie\"</td>\n",
       "      <td>female</td>\n",
       "      <td>NaN</td>\n",
       "      <td>1</td>\n",
       "      <td>2</td>\n",
       "      <td>W./C. 6607</td>\n",
       "      <td>23.4500</td>\n",
       "      <td>NaN</td>\n",
       "      <td>S</td>\n",
       "    </tr>\n",
       "    <tr>\n",
       "      <th>889</th>\n",
       "      <td>890</td>\n",
       "      <td>1</td>\n",
       "      <td>1</td>\n",
       "      <td>Behr, Mr. Karl Howell</td>\n",
       "      <td>male</td>\n",
       "      <td>26.0</td>\n",
       "      <td>0</td>\n",
       "      <td>0</td>\n",
       "      <td>111369</td>\n",
       "      <td>30.0000</td>\n",
       "      <td>C148</td>\n",
       "      <td>C</td>\n",
       "    </tr>\n",
       "    <tr>\n",
       "      <th>890</th>\n",
       "      <td>891</td>\n",
       "      <td>0</td>\n",
       "      <td>3</td>\n",
       "      <td>Dooley, Mr. Patrick</td>\n",
       "      <td>male</td>\n",
       "      <td>32.0</td>\n",
       "      <td>0</td>\n",
       "      <td>0</td>\n",
       "      <td>370376</td>\n",
       "      <td>7.7500</td>\n",
       "      <td>NaN</td>\n",
       "      <td>Q</td>\n",
       "    </tr>\n",
       "  </tbody>\n",
       "</table>\n",
       "<p>891 rows × 12 columns</p>\n",
       "</div>"
      ],
      "text/plain": [
       "     PassengerId  Survived  Pclass  \\\n",
       "0              1         0       3   \n",
       "1              2         1       1   \n",
       "2              3         1       3   \n",
       "3              4         1       1   \n",
       "4              5         0       3   \n",
       "..           ...       ...     ...   \n",
       "886          887         0       2   \n",
       "887          888         1       1   \n",
       "888          889         0       3   \n",
       "889          890         1       1   \n",
       "890          891         0       3   \n",
       "\n",
       "                                                  Name     Sex   Age  SibSp  \\\n",
       "0                              Braund, Mr. Owen Harris    male  22.0      1   \n",
       "1    Cumings, Mrs. John Bradley (Florence Briggs Th...  female  38.0      1   \n",
       "2                               Heikkinen, Miss. Laina  female  26.0      0   \n",
       "3         Futrelle, Mrs. Jacques Heath (Lily May Peel)  female  35.0      1   \n",
       "4                             Allen, Mr. William Henry    male  35.0      0   \n",
       "..                                                 ...     ...   ...    ...   \n",
       "886                              Montvila, Rev. Juozas    male  27.0      0   \n",
       "887                       Graham, Miss. Margaret Edith  female  19.0      0   \n",
       "888           Johnston, Miss. Catherine Helen \"Carrie\"  female   NaN      1   \n",
       "889                              Behr, Mr. Karl Howell    male  26.0      0   \n",
       "890                                Dooley, Mr. Patrick    male  32.0      0   \n",
       "\n",
       "     Parch            Ticket     Fare Cabin Embarked  \n",
       "0        0         A/5 21171   7.2500   NaN        S  \n",
       "1        0          PC 17599  71.2833   C85        C  \n",
       "2        0  STON/O2. 3101282   7.9250   NaN        S  \n",
       "3        0            113803  53.1000  C123        S  \n",
       "4        0            373450   8.0500   NaN        S  \n",
       "..     ...               ...      ...   ...      ...  \n",
       "886      0            211536  13.0000   NaN        S  \n",
       "887      0            112053  30.0000   B42        S  \n",
       "888      2        W./C. 6607  23.4500   NaN        S  \n",
       "889      0            111369  30.0000  C148        C  \n",
       "890      0            370376   7.7500   NaN        Q  \n",
       "\n",
       "[891 rows x 12 columns]"
      ]
     },
     "execution_count": 3,
     "metadata": {},
     "output_type": "execute_result"
    }
   ],
   "source": [
    "data"
   ]
  },
  {
   "cell_type": "markdown",
   "id": "67da28a5",
   "metadata": {},
   "source": [
    "# 2.Make ‘PassengerId’ as the index column"
   ]
  },
  {
   "cell_type": "code",
   "execution_count": 4,
   "id": "4070cb58",
   "metadata": {},
   "outputs": [
    {
     "data": {
      "text/html": [
       "<div>\n",
       "<style scoped>\n",
       "    .dataframe tbody tr th:only-of-type {\n",
       "        vertical-align: middle;\n",
       "    }\n",
       "\n",
       "    .dataframe tbody tr th {\n",
       "        vertical-align: top;\n",
       "    }\n",
       "\n",
       "    .dataframe thead th {\n",
       "        text-align: right;\n",
       "    }\n",
       "</style>\n",
       "<table border=\"1\" class=\"dataframe\">\n",
       "  <thead>\n",
       "    <tr style=\"text-align: right;\">\n",
       "      <th></th>\n",
       "      <th>Survived</th>\n",
       "      <th>Pclass</th>\n",
       "      <th>Name</th>\n",
       "      <th>Sex</th>\n",
       "      <th>Age</th>\n",
       "      <th>SibSp</th>\n",
       "      <th>Parch</th>\n",
       "      <th>Ticket</th>\n",
       "      <th>Fare</th>\n",
       "      <th>Cabin</th>\n",
       "      <th>Embarked</th>\n",
       "    </tr>\n",
       "    <tr>\n",
       "      <th>PassengerId</th>\n",
       "      <th></th>\n",
       "      <th></th>\n",
       "      <th></th>\n",
       "      <th></th>\n",
       "      <th></th>\n",
       "      <th></th>\n",
       "      <th></th>\n",
       "      <th></th>\n",
       "      <th></th>\n",
       "      <th></th>\n",
       "      <th></th>\n",
       "    </tr>\n",
       "  </thead>\n",
       "  <tbody>\n",
       "    <tr>\n",
       "      <th>1</th>\n",
       "      <td>0</td>\n",
       "      <td>3</td>\n",
       "      <td>Braund, Mr. Owen Harris</td>\n",
       "      <td>male</td>\n",
       "      <td>22.0</td>\n",
       "      <td>1</td>\n",
       "      <td>0</td>\n",
       "      <td>A/5 21171</td>\n",
       "      <td>7.2500</td>\n",
       "      <td>NaN</td>\n",
       "      <td>S</td>\n",
       "    </tr>\n",
       "    <tr>\n",
       "      <th>2</th>\n",
       "      <td>1</td>\n",
       "      <td>1</td>\n",
       "      <td>Cumings, Mrs. John Bradley (Florence Briggs Th...</td>\n",
       "      <td>female</td>\n",
       "      <td>38.0</td>\n",
       "      <td>1</td>\n",
       "      <td>0</td>\n",
       "      <td>PC 17599</td>\n",
       "      <td>71.2833</td>\n",
       "      <td>C85</td>\n",
       "      <td>C</td>\n",
       "    </tr>\n",
       "    <tr>\n",
       "      <th>3</th>\n",
       "      <td>1</td>\n",
       "      <td>3</td>\n",
       "      <td>Heikkinen, Miss. Laina</td>\n",
       "      <td>female</td>\n",
       "      <td>26.0</td>\n",
       "      <td>0</td>\n",
       "      <td>0</td>\n",
       "      <td>STON/O2. 3101282</td>\n",
       "      <td>7.9250</td>\n",
       "      <td>NaN</td>\n",
       "      <td>S</td>\n",
       "    </tr>\n",
       "    <tr>\n",
       "      <th>4</th>\n",
       "      <td>1</td>\n",
       "      <td>1</td>\n",
       "      <td>Futrelle, Mrs. Jacques Heath (Lily May Peel)</td>\n",
       "      <td>female</td>\n",
       "      <td>35.0</td>\n",
       "      <td>1</td>\n",
       "      <td>0</td>\n",
       "      <td>113803</td>\n",
       "      <td>53.1000</td>\n",
       "      <td>C123</td>\n",
       "      <td>S</td>\n",
       "    </tr>\n",
       "    <tr>\n",
       "      <th>5</th>\n",
       "      <td>0</td>\n",
       "      <td>3</td>\n",
       "      <td>Allen, Mr. William Henry</td>\n",
       "      <td>male</td>\n",
       "      <td>35.0</td>\n",
       "      <td>0</td>\n",
       "      <td>0</td>\n",
       "      <td>373450</td>\n",
       "      <td>8.0500</td>\n",
       "      <td>NaN</td>\n",
       "      <td>S</td>\n",
       "    </tr>\n",
       "    <tr>\n",
       "      <th>...</th>\n",
       "      <td>...</td>\n",
       "      <td>...</td>\n",
       "      <td>...</td>\n",
       "      <td>...</td>\n",
       "      <td>...</td>\n",
       "      <td>...</td>\n",
       "      <td>...</td>\n",
       "      <td>...</td>\n",
       "      <td>...</td>\n",
       "      <td>...</td>\n",
       "      <td>...</td>\n",
       "    </tr>\n",
       "    <tr>\n",
       "      <th>887</th>\n",
       "      <td>0</td>\n",
       "      <td>2</td>\n",
       "      <td>Montvila, Rev. Juozas</td>\n",
       "      <td>male</td>\n",
       "      <td>27.0</td>\n",
       "      <td>0</td>\n",
       "      <td>0</td>\n",
       "      <td>211536</td>\n",
       "      <td>13.0000</td>\n",
       "      <td>NaN</td>\n",
       "      <td>S</td>\n",
       "    </tr>\n",
       "    <tr>\n",
       "      <th>888</th>\n",
       "      <td>1</td>\n",
       "      <td>1</td>\n",
       "      <td>Graham, Miss. Margaret Edith</td>\n",
       "      <td>female</td>\n",
       "      <td>19.0</td>\n",
       "      <td>0</td>\n",
       "      <td>0</td>\n",
       "      <td>112053</td>\n",
       "      <td>30.0000</td>\n",
       "      <td>B42</td>\n",
       "      <td>S</td>\n",
       "    </tr>\n",
       "    <tr>\n",
       "      <th>889</th>\n",
       "      <td>0</td>\n",
       "      <td>3</td>\n",
       "      <td>Johnston, Miss. Catherine Helen \"Carrie\"</td>\n",
       "      <td>female</td>\n",
       "      <td>NaN</td>\n",
       "      <td>1</td>\n",
       "      <td>2</td>\n",
       "      <td>W./C. 6607</td>\n",
       "      <td>23.4500</td>\n",
       "      <td>NaN</td>\n",
       "      <td>S</td>\n",
       "    </tr>\n",
       "    <tr>\n",
       "      <th>890</th>\n",
       "      <td>1</td>\n",
       "      <td>1</td>\n",
       "      <td>Behr, Mr. Karl Howell</td>\n",
       "      <td>male</td>\n",
       "      <td>26.0</td>\n",
       "      <td>0</td>\n",
       "      <td>0</td>\n",
       "      <td>111369</td>\n",
       "      <td>30.0000</td>\n",
       "      <td>C148</td>\n",
       "      <td>C</td>\n",
       "    </tr>\n",
       "    <tr>\n",
       "      <th>891</th>\n",
       "      <td>0</td>\n",
       "      <td>3</td>\n",
       "      <td>Dooley, Mr. Patrick</td>\n",
       "      <td>male</td>\n",
       "      <td>32.0</td>\n",
       "      <td>0</td>\n",
       "      <td>0</td>\n",
       "      <td>370376</td>\n",
       "      <td>7.7500</td>\n",
       "      <td>NaN</td>\n",
       "      <td>Q</td>\n",
       "    </tr>\n",
       "  </tbody>\n",
       "</table>\n",
       "<p>891 rows × 11 columns</p>\n",
       "</div>"
      ],
      "text/plain": [
       "             Survived  Pclass  \\\n",
       "PassengerId                     \n",
       "1                   0       3   \n",
       "2                   1       1   \n",
       "3                   1       3   \n",
       "4                   1       1   \n",
       "5                   0       3   \n",
       "...               ...     ...   \n",
       "887                 0       2   \n",
       "888                 1       1   \n",
       "889                 0       3   \n",
       "890                 1       1   \n",
       "891                 0       3   \n",
       "\n",
       "                                                          Name     Sex   Age  \\\n",
       "PassengerId                                                                    \n",
       "1                                      Braund, Mr. Owen Harris    male  22.0   \n",
       "2            Cumings, Mrs. John Bradley (Florence Briggs Th...  female  38.0   \n",
       "3                                       Heikkinen, Miss. Laina  female  26.0   \n",
       "4                 Futrelle, Mrs. Jacques Heath (Lily May Peel)  female  35.0   \n",
       "5                                     Allen, Mr. William Henry    male  35.0   \n",
       "...                                                        ...     ...   ...   \n",
       "887                                      Montvila, Rev. Juozas    male  27.0   \n",
       "888                               Graham, Miss. Margaret Edith  female  19.0   \n",
       "889                   Johnston, Miss. Catherine Helen \"Carrie\"  female   NaN   \n",
       "890                                      Behr, Mr. Karl Howell    male  26.0   \n",
       "891                                        Dooley, Mr. Patrick    male  32.0   \n",
       "\n",
       "             SibSp  Parch            Ticket     Fare Cabin Embarked  \n",
       "PassengerId                                                          \n",
       "1                1      0         A/5 21171   7.2500   NaN        S  \n",
       "2                1      0          PC 17599  71.2833   C85        C  \n",
       "3                0      0  STON/O2. 3101282   7.9250   NaN        S  \n",
       "4                1      0            113803  53.1000  C123        S  \n",
       "5                0      0            373450   8.0500   NaN        S  \n",
       "...            ...    ...               ...      ...   ...      ...  \n",
       "887              0      0            211536  13.0000   NaN        S  \n",
       "888              0      0            112053  30.0000   B42        S  \n",
       "889              1      2        W./C. 6607  23.4500   NaN        S  \n",
       "890              0      0            111369  30.0000  C148        C  \n",
       "891              0      0            370376   7.7500   NaN        Q  \n",
       "\n",
       "[891 rows x 11 columns]"
      ]
     },
     "execution_count": 4,
     "metadata": {},
     "output_type": "execute_result"
    }
   ],
   "source": [
    "data.set_index(\"PassengerId\")"
   ]
  },
  {
   "cell_type": "markdown",
   "id": "f34ec45a",
   "metadata": {},
   "source": [
    "# 3.Check the basic details of the dataset"
   ]
  },
  {
   "cell_type": "code",
   "execution_count": 5,
   "id": "898f8269",
   "metadata": {},
   "outputs": [
    {
     "name": "stdout",
     "output_type": "stream",
     "text": [
      "<class 'pandas.core.frame.DataFrame'>\n",
      "RangeIndex: 891 entries, 0 to 890\n",
      "Data columns (total 12 columns):\n",
      " #   Column       Non-Null Count  Dtype  \n",
      "---  ------       --------------  -----  \n",
      " 0   PassengerId  891 non-null    int64  \n",
      " 1   Survived     891 non-null    int64  \n",
      " 2   Pclass       891 non-null    int64  \n",
      " 3   Name         891 non-null    object \n",
      " 4   Sex          891 non-null    object \n",
      " 5   Age          714 non-null    float64\n",
      " 6   SibSp        891 non-null    int64  \n",
      " 7   Parch        891 non-null    int64  \n",
      " 8   Ticket       891 non-null    object \n",
      " 9   Fare         891 non-null    float64\n",
      " 10  Cabin        204 non-null    object \n",
      " 11  Embarked     889 non-null    object \n",
      "dtypes: float64(2), int64(5), object(5)\n",
      "memory usage: 83.7+ KB\n"
     ]
    }
   ],
   "source": [
    "data.info()"
   ]
  },
  {
   "cell_type": "code",
   "execution_count": 6,
   "id": "c3251e1f",
   "metadata": {},
   "outputs": [
    {
     "data": {
      "text/html": [
       "<div>\n",
       "<style scoped>\n",
       "    .dataframe tbody tr th:only-of-type {\n",
       "        vertical-align: middle;\n",
       "    }\n",
       "\n",
       "    .dataframe tbody tr th {\n",
       "        vertical-align: top;\n",
       "    }\n",
       "\n",
       "    .dataframe thead th {\n",
       "        text-align: right;\n",
       "    }\n",
       "</style>\n",
       "<table border=\"1\" class=\"dataframe\">\n",
       "  <thead>\n",
       "    <tr style=\"text-align: right;\">\n",
       "      <th></th>\n",
       "      <th>PassengerId</th>\n",
       "      <th>Survived</th>\n",
       "      <th>Pclass</th>\n",
       "      <th>Age</th>\n",
       "      <th>SibSp</th>\n",
       "      <th>Parch</th>\n",
       "      <th>Fare</th>\n",
       "    </tr>\n",
       "  </thead>\n",
       "  <tbody>\n",
       "    <tr>\n",
       "      <th>count</th>\n",
       "      <td>891.000000</td>\n",
       "      <td>891.000000</td>\n",
       "      <td>891.000000</td>\n",
       "      <td>714.000000</td>\n",
       "      <td>891.000000</td>\n",
       "      <td>891.000000</td>\n",
       "      <td>891.000000</td>\n",
       "    </tr>\n",
       "    <tr>\n",
       "      <th>mean</th>\n",
       "      <td>446.000000</td>\n",
       "      <td>0.383838</td>\n",
       "      <td>2.308642</td>\n",
       "      <td>29.699118</td>\n",
       "      <td>0.523008</td>\n",
       "      <td>0.381594</td>\n",
       "      <td>32.204208</td>\n",
       "    </tr>\n",
       "    <tr>\n",
       "      <th>std</th>\n",
       "      <td>257.353842</td>\n",
       "      <td>0.486592</td>\n",
       "      <td>0.836071</td>\n",
       "      <td>14.526497</td>\n",
       "      <td>1.102743</td>\n",
       "      <td>0.806057</td>\n",
       "      <td>49.693429</td>\n",
       "    </tr>\n",
       "    <tr>\n",
       "      <th>min</th>\n",
       "      <td>1.000000</td>\n",
       "      <td>0.000000</td>\n",
       "      <td>1.000000</td>\n",
       "      <td>0.420000</td>\n",
       "      <td>0.000000</td>\n",
       "      <td>0.000000</td>\n",
       "      <td>0.000000</td>\n",
       "    </tr>\n",
       "    <tr>\n",
       "      <th>25%</th>\n",
       "      <td>223.500000</td>\n",
       "      <td>0.000000</td>\n",
       "      <td>2.000000</td>\n",
       "      <td>20.125000</td>\n",
       "      <td>0.000000</td>\n",
       "      <td>0.000000</td>\n",
       "      <td>7.910400</td>\n",
       "    </tr>\n",
       "    <tr>\n",
       "      <th>50%</th>\n",
       "      <td>446.000000</td>\n",
       "      <td>0.000000</td>\n",
       "      <td>3.000000</td>\n",
       "      <td>28.000000</td>\n",
       "      <td>0.000000</td>\n",
       "      <td>0.000000</td>\n",
       "      <td>14.454200</td>\n",
       "    </tr>\n",
       "    <tr>\n",
       "      <th>75%</th>\n",
       "      <td>668.500000</td>\n",
       "      <td>1.000000</td>\n",
       "      <td>3.000000</td>\n",
       "      <td>38.000000</td>\n",
       "      <td>1.000000</td>\n",
       "      <td>0.000000</td>\n",
       "      <td>31.000000</td>\n",
       "    </tr>\n",
       "    <tr>\n",
       "      <th>max</th>\n",
       "      <td>891.000000</td>\n",
       "      <td>1.000000</td>\n",
       "      <td>3.000000</td>\n",
       "      <td>80.000000</td>\n",
       "      <td>8.000000</td>\n",
       "      <td>6.000000</td>\n",
       "      <td>512.329200</td>\n",
       "    </tr>\n",
       "  </tbody>\n",
       "</table>\n",
       "</div>"
      ],
      "text/plain": [
       "       PassengerId    Survived      Pclass         Age       SibSp  \\\n",
       "count   891.000000  891.000000  891.000000  714.000000  891.000000   \n",
       "mean    446.000000    0.383838    2.308642   29.699118    0.523008   \n",
       "std     257.353842    0.486592    0.836071   14.526497    1.102743   \n",
       "min       1.000000    0.000000    1.000000    0.420000    0.000000   \n",
       "25%     223.500000    0.000000    2.000000   20.125000    0.000000   \n",
       "50%     446.000000    0.000000    3.000000   28.000000    0.000000   \n",
       "75%     668.500000    1.000000    3.000000   38.000000    1.000000   \n",
       "max     891.000000    1.000000    3.000000   80.000000    8.000000   \n",
       "\n",
       "            Parch        Fare  \n",
       "count  891.000000  891.000000  \n",
       "mean     0.381594   32.204208  \n",
       "std      0.806057   49.693429  \n",
       "min      0.000000    0.000000  \n",
       "25%      0.000000    7.910400  \n",
       "50%      0.000000   14.454200  \n",
       "75%      0.000000   31.000000  \n",
       "max      6.000000  512.329200  "
      ]
     },
     "execution_count": 6,
     "metadata": {},
     "output_type": "execute_result"
    }
   ],
   "source": [
    "data.describe()"
   ]
  },
  {
   "cell_type": "markdown",
   "id": "ad85af3e",
   "metadata": {},
   "source": [
    "# 4.Fill in all the missing values present in all the columns in the dataset"
   ]
  },
  {
   "cell_type": "code",
   "execution_count": 7,
   "id": "5106c614",
   "metadata": {},
   "outputs": [
    {
     "data": {
      "text/plain": [
       "PassengerId      0\n",
       "Survived         0\n",
       "Pclass           0\n",
       "Name             0\n",
       "Sex              0\n",
       "Age            177\n",
       "SibSp            0\n",
       "Parch            0\n",
       "Ticket           0\n",
       "Fare             0\n",
       "Cabin          687\n",
       "Embarked         2\n",
       "dtype: int64"
      ]
     },
     "execution_count": 7,
     "metadata": {},
     "output_type": "execute_result"
    }
   ],
   "source": [
    "data.isnull().sum()"
   ]
  },
  {
   "cell_type": "code",
   "execution_count": 56,
   "id": "3202bcb0",
   "metadata": {},
   "outputs": [],
   "source": [
    "\n",
    "data['Embarked']=data['Embarked'].fillna(0)\n"
   ]
  },
  {
   "cell_type": "code",
   "execution_count": 57,
   "id": "edb6736f",
   "metadata": {},
   "outputs": [
    {
     "data": {
      "text/plain": [
       "PassengerId      0\n",
       "Survived         0\n",
       "Pclass           0\n",
       "Name             0\n",
       "Sex              0\n",
       "Age              0\n",
       "SibSp            0\n",
       "Parch            0\n",
       "Ticket           0\n",
       "Fare             0\n",
       "Cabin          687\n",
       "Embarked         0\n",
       "dtype: int64"
      ]
     },
     "execution_count": 57,
     "metadata": {},
     "output_type": "execute_result"
    }
   ],
   "source": [
    "data.isnull().sum()"
   ]
  },
  {
   "cell_type": "code",
   "execution_count": 158,
   "id": "edb1ed44",
   "metadata": {},
   "outputs": [],
   "source": [
    "data['Cabin']=pd.to_numeric(data['Cabin'],errors='coerce').fillna(0).astype('int')"
   ]
  },
  {
   "cell_type": "code",
   "execution_count": 159,
   "id": "81a7c9d0",
   "metadata": {},
   "outputs": [
    {
     "data": {
      "text/plain": [
       "PassengerId    0\n",
       "Survived       0\n",
       "Pclass         0\n",
       "Name           0\n",
       "Sex            0\n",
       "Age            0\n",
       "SibSp          0\n",
       "Parch          0\n",
       "Ticket         0\n",
       "Fare           0\n",
       "Cabin          0\n",
       "Embarked       0\n",
       "dtype: int64"
      ]
     },
     "execution_count": 159,
     "metadata": {},
     "output_type": "execute_result"
    }
   ],
   "source": [
    "data.isnull().sum()\n"
   ]
  },
  {
   "cell_type": "markdown",
   "id": "203bbd57",
   "metadata": {},
   "source": [
    "# 5.Check and handle outliers in at least 3 columns in the dataset"
   ]
  },
  {
   "cell_type": "code",
   "execution_count": 160,
   "id": "e378eaa5",
   "metadata": {},
   "outputs": [
    {
     "data": {
      "text/plain": [
       "<AxesSubplot:xlabel='Age'>"
      ]
     },
     "execution_count": 160,
     "metadata": {},
     "output_type": "execute_result"
    },
    {
     "data": {
      "image/png": "[encoded data removed]",
      "text/plain": [
       "<Figure size 432x288 with 1 Axes>"
      ]
     },
     "metadata": {
      "needs_background": "light"
     },
     "output_type": "display_data"
    }
   ],
   "source": [
    "import seaborn as sns\n",
    "sns.boxplot(x=data['Age'])"
   ]
  },
  {
   "cell_type": "code",
   "execution_count": 161,
   "id": "603e82d5",
   "metadata": {},
   "outputs": [
    {
     "data": {
      "text/plain": [
       "<AxesSubplot:xlabel='Survived'>"
      ]
     },
     "execution_count": 161,
     "metadata": {},
     "output_type": "execute_result"
    },
    {
     "data": {
      "image/png": "[encoded data removed]",
      "text/plain": [
       "<Figure size 432x288 with 1 Axes>"
      ]
     },
     "metadata": {
      "needs_background": "light"
     },
     "output_type": "display_data"
    }
   ],
   "source": [
    "sns.boxplot(x=data['Survived'])"
   ]
  },
  {
   "cell_type": "code",
   "execution_count": 162,
   "id": "2be4b4a7",
   "metadata": {},
   "outputs": [
    {
     "data": {
      "text/plain": [
       "<AxesSubplot:xlabel='Fare'>"
      ]
     },
     "execution_count": 162,
     "metadata": {},
     "output_type": "execute_result"
    },
    {
     "data": {
      "image/png": "[encoded data removed]",
      "text/plain": [
       "<Figure size 432x288 with 1 Axes>"
      ]
     },
     "metadata": {
      "needs_background": "light"
     },
     "output_type": "display_data"
    }
   ],
   "source": [
    "sns.boxplot(x=data['Fare'])"
   ]
  },
  {
   "cell_type": "markdown",
   "id": "586de71a",
   "metadata": {},
   "source": [
    "winsorize method"
   ]
  },
  {
   "cell_type": "code",
   "execution_count": 163,
   "id": "ba521060",
   "metadata": {},
   "outputs": [],
   "source": [
    "from scipy.stats.mstats import winsorize"
   ]
  },
  {
   "cell_type": "code",
   "execution_count": 164,
   "id": "6b050565",
   "metadata": {},
   "outputs": [
    {
     "data": {
      "text/plain": [
       "54.5"
      ]
     },
     "execution_count": 164,
     "metadata": {},
     "output_type": "execute_result"
    }
   ],
   "source": [
    "upper_lim"
   ]
  },
  {
   "cell_type": "code",
   "execution_count": 165,
   "id": "86b83463",
   "metadata": {},
   "outputs": [
    {
     "data": {
      "text/plain": [
       "2.5"
      ]
     },
     "execution_count": 165,
     "metadata": {},
     "output_type": "execute_result"
    }
   ],
   "source": [
    "lower_lim"
   ]
  },
  {
   "cell_type": "code",
   "execution_count": 166,
   "id": "23fe9cad",
   "metadata": {},
   "outputs": [
    {
     "data": {
      "text/plain": [
       "1.0"
      ]
     },
     "execution_count": 166,
     "metadata": {},
     "output_type": "execute_result"
    }
   ],
   "source": [
    "data['Age'].quantile(0.01)"
   ]
  },
  {
   "cell_type": "code",
   "execution_count": 167,
   "id": "15d6ae3d",
   "metadata": {},
   "outputs": [
    {
     "data": {
      "text/plain": [
       "62.0"
      ]
     },
     "execution_count": 167,
     "metadata": {},
     "output_type": "execute_result"
    }
   ],
   "source": [
    "data['Age'].quantile(0.98)"
   ]
  },
  {
   "cell_type": "code",
   "execution_count": 168,
   "id": "06589103",
   "metadata": {},
   "outputs": [],
   "source": [
    "data_Age_win=winsorize(data['Age'],(0.01,0.02))"
   ]
  },
  {
   "cell_type": "code",
   "execution_count": 169,
   "id": "16b79a17",
   "metadata": {},
   "outputs": [
    {
     "data": {
      "text/plain": [
       "masked_array(data=[22.        , 38.        , 26.        , 35.        ,\n",
       "                   35.        , 29.69911765, 54.        ,  2.        ,\n",
       "                   27.        , 14.        ,  4.        , 58.        ,\n",
       "                   20.        , 39.        , 14.        , 55.        ,\n",
       "                    2.        , 29.69911765, 31.        , 29.69911765,\n",
       "                   35.        , 34.        , 15.        , 28.        ,\n",
       "                    8.        , 38.        , 29.69911765, 19.        ,\n",
       "                   29.69911765, 29.69911765, 40.        , 29.69911765,\n",
       "                   29.69911765, 62.        , 28.        , 42.        ,\n",
       "                   29.69911765, 21.        , 18.        , 14.        ,\n",
       "                   40.        , 27.        , 29.69911765,  3.        ,\n",
       "                   19.        , 29.69911765, 29.69911765, 29.69911765,\n",
       "                   29.69911765, 18.        ,  7.        , 21.        ,\n",
       "                   49.        , 29.        , 62.        , 29.69911765,\n",
       "                   21.        , 28.5       ,  5.        , 11.        ,\n",
       "                   22.        , 38.        , 45.        ,  4.        ,\n",
       "                   29.69911765, 29.69911765, 29.        , 19.        ,\n",
       "                   17.        , 26.        , 32.        , 16.        ,\n",
       "                   21.        , 26.        , 32.        , 25.        ,\n",
       "                   29.69911765, 29.69911765,  1.        , 30.        ,\n",
       "                   22.        , 29.        , 29.69911765, 28.        ,\n",
       "                   17.        , 33.        , 16.        , 29.69911765,\n",
       "                   23.        , 24.        , 29.        , 20.        ,\n",
       "                   46.        , 26.        , 59.        , 29.69911765,\n",
       "                   62.        , 23.        , 34.        , 34.        ,\n",
       "                   28.        , 29.69911765, 21.        , 33.        ,\n",
       "                   37.        , 28.        , 21.        , 29.69911765,\n",
       "                   38.        , 29.69911765, 47.        , 14.5       ,\n",
       "                   22.        , 20.        , 17.        , 21.        ,\n",
       "                   62.        , 29.        , 24.        ,  2.        ,\n",
       "                   21.        , 29.69911765, 32.5       , 32.5       ,\n",
       "                   54.        , 12.        , 29.69911765, 24.        ,\n",
       "                   29.69911765, 45.        , 33.        , 20.        ,\n",
       "                   47.        , 29.        , 25.        , 23.        ,\n",
       "                   19.        , 37.        , 16.        , 24.        ,\n",
       "                   29.69911765, 22.        , 24.        , 19.        ,\n",
       "                   18.        , 19.        , 27.        ,  9.        ,\n",
       "                   36.5       , 42.        , 51.        , 22.        ,\n",
       "                   55.5       , 40.5       , 29.69911765, 51.        ,\n",
       "                   16.        , 30.        , 29.69911765, 29.69911765,\n",
       "                   44.        , 40.        , 26.        , 17.        ,\n",
       "                    1.        ,  9.        , 29.69911765, 45.        ,\n",
       "                   29.69911765, 28.        , 61.        ,  4.        ,\n",
       "                    1.        , 21.        , 56.        , 18.        ,\n",
       "                   29.69911765, 50.        , 30.        , 36.        ,\n",
       "                   29.69911765, 29.69911765,  9.        ,  1.        ,\n",
       "                    4.        , 29.69911765, 29.69911765, 45.        ,\n",
       "                   40.        , 36.        , 32.        , 19.        ,\n",
       "                   19.        ,  3.        , 44.        , 58.        ,\n",
       "                   29.69911765, 42.        , 29.69911765, 24.        ,\n",
       "                   28.        , 29.69911765, 34.        , 45.5       ,\n",
       "                   18.        ,  2.        , 32.        , 26.        ,\n",
       "                   16.        , 40.        , 24.        , 35.        ,\n",
       "                   22.        , 30.        , 29.69911765, 31.        ,\n",
       "                   27.        , 42.        , 32.        , 30.        ,\n",
       "                   16.        , 27.        , 51.        , 29.69911765,\n",
       "                   38.        , 22.        , 19.        , 20.5       ,\n",
       "                   18.        , 29.69911765, 35.        , 29.        ,\n",
       "                   59.        ,  5.        , 24.        , 29.69911765,\n",
       "                   44.        ,  8.        , 19.        , 33.        ,\n",
       "                   29.69911765, 29.69911765, 29.        , 22.        ,\n",
       "                   30.        , 44.        , 25.        , 24.        ,\n",
       "                   37.        , 54.        , 29.69911765, 29.        ,\n",
       "                   62.        , 30.        , 41.        , 29.        ,\n",
       "                   29.69911765, 30.        , 35.        , 50.        ,\n",
       "                   29.69911765,  3.        , 52.        , 40.        ,\n",
       "                   29.69911765, 36.        , 16.        , 25.        ,\n",
       "                   58.        , 35.        , 29.69911765, 25.        ,\n",
       "                   41.        , 37.        , 29.69911765, 62.        ,\n",
       "                   45.        , 29.69911765,  7.        , 35.        ,\n",
       "                   62.        , 28.        , 16.        , 19.        ,\n",
       "                   29.69911765, 33.        , 30.        , 22.        ,\n",
       "                   42.        , 22.        , 26.        , 19.        ,\n",
       "                   36.        , 24.        , 24.        , 29.69911765,\n",
       "                   23.5       ,  2.        , 29.69911765, 50.        ,\n",
       "                   29.69911765, 29.69911765, 19.        , 29.69911765,\n",
       "                   29.69911765,  1.        , 29.69911765, 17.        ,\n",
       "                   30.        , 30.        , 24.        , 18.        ,\n",
       "                   26.        , 28.        , 43.        , 26.        ,\n",
       "                   24.        , 54.        , 31.        , 40.        ,\n",
       "                   22.        , 27.        , 30.        , 22.        ,\n",
       "                   29.69911765, 36.        , 61.        , 36.        ,\n",
       "                   31.        , 16.        , 29.69911765, 45.5       ,\n",
       "                   38.        , 16.        , 29.69911765, 29.69911765,\n",
       "                   29.        , 41.        , 45.        , 45.        ,\n",
       "                    2.        , 24.        , 28.        , 25.        ,\n",
       "                   36.        , 24.        , 40.        , 29.69911765,\n",
       "                    3.        , 42.        , 23.        , 29.69911765,\n",
       "                   15.        , 25.        , 29.69911765, 28.        ,\n",
       "                   22.        , 38.        , 29.69911765, 29.69911765,\n",
       "                   40.        , 29.        , 45.        , 35.        ,\n",
       "                   29.69911765, 30.        , 60.        , 29.69911765,\n",
       "                   29.69911765, 24.        , 25.        , 18.        ,\n",
       "                   19.        , 22.        ,  3.        , 29.69911765,\n",
       "                   22.        , 27.        , 20.        , 19.        ,\n",
       "                   42.        ,  1.        , 32.        , 35.        ,\n",
       "                   29.69911765, 18.        ,  1.        , 36.        ,\n",
       "                   29.69911765, 17.        , 36.        , 21.        ,\n",
       "                   28.        , 23.        , 24.        , 22.        ,\n",
       "                   31.        , 46.        , 23.        , 28.        ,\n",
       "                   39.        , 26.        , 21.        , 28.        ,\n",
       "                   20.        , 34.        , 51.        ,  3.        ,\n",
       "                   21.        , 29.69911765, 29.69911765, 29.69911765,\n",
       "                   33.        , 29.69911765, 44.        , 29.69911765,\n",
       "                   34.        , 18.        , 30.        , 10.        ,\n",
       "                   29.69911765, 21.        , 29.        , 28.        ,\n",
       "                   18.        , 29.69911765, 28.        , 19.        ,\n",
       "                   29.69911765, 32.        , 28.        , 29.69911765,\n",
       "                   42.        , 17.        , 50.        , 14.        ,\n",
       "                   21.        , 24.        , 62.        , 31.        ,\n",
       "                   45.        , 20.        , 25.        , 28.        ,\n",
       "                   29.69911765,  4.        , 13.        , 34.        ,\n",
       "                    5.        , 52.        , 36.        , 29.69911765,\n",
       "                   30.        , 49.        , 29.69911765, 29.        ,\n",
       "                   62.        , 29.69911765, 50.        , 29.69911765,\n",
       "                   48.        , 34.        , 47.        , 48.        ,\n",
       "                   29.69911765, 38.        , 29.69911765, 56.        ,\n",
       "                   29.69911765,  1.        , 29.69911765, 38.        ,\n",
       "                   33.        , 23.        , 22.        , 29.69911765,\n",
       "                   34.        , 29.        , 22.        ,  2.        ,\n",
       "                    9.        , 29.69911765, 50.        , 62.        ,\n",
       "                   25.        , 29.69911765, 35.        , 58.        ,\n",
       "                   30.        ,  9.        , 29.69911765, 21.        ,\n",
       "                   55.        , 62.        , 21.        , 29.69911765,\n",
       "                   54.        , 29.69911765, 25.        , 24.        ,\n",
       "                   17.        , 21.        , 29.69911765, 37.        ,\n",
       "                   16.        , 18.        , 33.        , 29.69911765,\n",
       "                   28.        , 26.        , 29.        , 29.69911765,\n",
       "                   36.        , 54.        , 24.        , 47.        ,\n",
       "                   34.        , 29.69911765, 36.        , 32.        ,\n",
       "                   30.        , 22.        , 29.69911765, 44.        ,\n",
       "                   29.69911765, 40.5       , 50.        , 29.69911765,\n",
       "                   39.        , 23.        ,  2.        , 29.69911765,\n",
       "                   17.        , 29.69911765, 30.        ,  7.        ,\n",
       "                   45.        , 30.        , 29.69911765, 22.        ,\n",
       "                   36.        ,  9.        , 11.        , 32.        ,\n",
       "                   50.        , 62.        , 19.        , 29.69911765,\n",
       "                   33.        ,  8.        , 17.        , 27.        ,\n",
       "                   29.69911765, 22.        , 22.        , 62.        ,\n",
       "                   48.        , 29.69911765, 39.        , 36.        ,\n",
       "                   29.69911765, 40.        , 28.        , 29.69911765,\n",
       "                   29.69911765, 24.        , 19.        , 29.        ,\n",
       "                   29.69911765, 32.        , 62.        , 53.        ,\n",
       "                   36.        , 29.69911765, 16.        , 19.        ,\n",
       "                   34.        , 39.        , 29.69911765, 32.        ,\n",
       "                   25.        , 39.        , 54.        , 36.        ,\n",
       "                   29.69911765, 18.        , 47.        , 60.        ,\n",
       "                   22.        , 29.69911765, 35.        , 52.        ,\n",
       "                   47.        , 29.69911765, 37.        , 36.        ,\n",
       "                   29.69911765, 49.        , 29.69911765, 49.        ,\n",
       "                   24.        , 29.69911765, 29.69911765, 44.        ,\n",
       "                   35.        , 36.        , 30.        , 27.        ,\n",
       "                   22.        , 40.        , 39.        , 29.69911765,\n",
       "                   29.69911765, 29.69911765, 35.        , 24.        ,\n",
       "                   34.        , 26.        ,  4.        , 26.        ,\n",
       "                   27.        , 42.        , 20.        , 21.        ,\n",
       "                   21.        , 61.        , 57.        , 21.        ,\n",
       "                   26.        , 29.69911765, 62.        , 51.        ,\n",
       "                   32.        , 29.69911765,  9.        , 28.        ,\n",
       "                   32.        , 31.        , 41.        , 29.69911765,\n",
       "                   20.        , 24.        ,  2.        , 29.69911765,\n",
       "                    1.        , 48.        , 19.        , 56.        ,\n",
       "                   29.69911765, 23.        , 29.69911765, 18.        ,\n",
       "                   21.        , 29.69911765, 18.        , 24.        ,\n",
       "                   29.69911765, 32.        , 23.        , 58.        ,\n",
       "                   50.        , 40.        , 47.        , 36.        ,\n",
       "                   20.        , 32.        , 25.        , 29.69911765,\n",
       "                   43.        , 29.69911765, 40.        , 31.        ,\n",
       "                   62.        , 31.        , 29.69911765, 18.        ,\n",
       "                   24.5       , 18.        , 43.        , 36.        ,\n",
       "                   29.69911765, 27.        , 20.        , 14.        ,\n",
       "                   60.        , 25.        , 14.        , 19.        ,\n",
       "                   18.        , 15.        , 31.        ,  4.        ,\n",
       "                   29.69911765, 25.        , 60.        , 52.        ,\n",
       "                   44.        , 29.69911765, 49.        , 42.        ,\n",
       "                   18.        , 35.        , 18.        , 25.        ,\n",
       "                   26.        , 39.        , 45.        , 42.        ,\n",
       "                   22.        , 29.69911765, 24.        , 29.69911765,\n",
       "                   48.        , 29.        , 52.        , 19.        ,\n",
       "                   38.        , 27.        , 29.69911765, 33.        ,\n",
       "                    6.        , 17.        , 34.        , 50.        ,\n",
       "                   27.        , 20.        , 30.        , 29.69911765,\n",
       "                   25.        , 25.        , 29.        , 11.        ,\n",
       "                   29.69911765, 23.        , 23.        , 28.5       ,\n",
       "                   48.        , 35.        , 29.69911765, 29.69911765,\n",
       "                   29.69911765, 36.        , 21.        , 24.        ,\n",
       "                   31.        , 62.        , 16.        , 30.        ,\n",
       "                   19.        , 31.        ,  4.        ,  6.        ,\n",
       "                   33.        , 23.        , 48.        ,  1.        ,\n",
       "                   28.        , 18.        , 34.        , 33.        ,\n",
       "                   29.69911765, 41.        , 20.        , 36.        ,\n",
       "                   16.        , 51.        , 29.69911765, 30.5       ,\n",
       "                   29.69911765, 32.        , 24.        , 48.        ,\n",
       "                   57.        , 29.69911765, 54.        , 18.        ,\n",
       "                   29.69911765,  5.        , 29.69911765, 43.        ,\n",
       "                   13.        , 17.        , 29.        , 29.69911765,\n",
       "                   25.        , 25.        , 18.        ,  8.        ,\n",
       "                    1.        , 46.        , 29.69911765, 16.        ,\n",
       "                   29.69911765, 29.69911765, 25.        , 39.        ,\n",
       "                   49.        , 31.        , 30.        , 30.        ,\n",
       "                   34.        , 31.        , 11.        ,  1.        ,\n",
       "                   27.        , 31.        , 39.        , 18.        ,\n",
       "                   39.        , 33.        , 26.        , 39.        ,\n",
       "                   35.        ,  6.        , 30.5       , 29.69911765,\n",
       "                   23.        , 31.        , 43.        , 10.        ,\n",
       "                   52.        , 27.        , 38.        , 27.        ,\n",
       "                    2.        , 29.69911765, 29.69911765,  1.        ,\n",
       "                   29.69911765, 62.        , 15.        ,  1.        ,\n",
       "                   29.69911765, 23.        , 18.        , 39.        ,\n",
       "                   21.        , 29.69911765, 32.        , 29.69911765,\n",
       "                   20.        , 16.        , 30.        , 34.5       ,\n",
       "                   17.        , 42.        , 29.69911765, 35.        ,\n",
       "                   28.        , 29.69911765,  4.        , 62.        ,\n",
       "                    9.        , 16.        , 44.        , 18.        ,\n",
       "                   45.        , 51.        , 24.        , 29.69911765,\n",
       "                   41.        , 21.        , 48.        , 29.69911765,\n",
       "                   24.        , 42.        , 27.        , 31.        ,\n",
       "                   29.69911765,  4.        , 26.        , 47.        ,\n",
       "                   33.        , 47.        , 28.        , 15.        ,\n",
       "                   20.        , 19.        , 29.69911765, 56.        ,\n",
       "                   25.        , 33.        , 22.        , 28.        ,\n",
       "                   25.        , 39.        , 27.        , 19.        ,\n",
       "                   29.69911765, 26.        , 32.        ],\n",
       "             mask=False,\n",
       "       fill_value=1e+20)"
      ]
     },
     "execution_count": 169,
     "metadata": {},
     "output_type": "execute_result"
    }
   ],
   "source": [
    "data_Age_win"
   ]
  },
  {
   "cell_type": "code",
   "execution_count": 170,
   "id": "7e761f90",
   "metadata": {},
   "outputs": [
    {
     "data": {
      "text/plain": [
       "<AxesSubplot:>"
      ]
     },
     "execution_count": 170,
     "metadata": {},
     "output_type": "execute_result"
    },
    {
     "data": {
      "image/png": "[encoded data removed]",
      "text/plain": [
       "<Figure size 432x288 with 1 Axes>"
      ]
     },
     "metadata": {
      "needs_background": "light"
     },
     "output_type": "display_data"
    }
   ],
   "source": [
    "sns.boxplot(x=data_Age_win)"
   ]
  },
  {
   "cell_type": "code",
   "execution_count": 171,
   "id": "beabd6a3",
   "metadata": {},
   "outputs": [
    {
     "data": {
      "text/plain": [
       "0.0"
      ]
     },
     "execution_count": 171,
     "metadata": {},
     "output_type": "execute_result"
    }
   ],
   "source": [
    "data['Survived'].quantile(0.01)"
   ]
  },
  {
   "cell_type": "code",
   "execution_count": 172,
   "id": "a0e3b2fa",
   "metadata": {},
   "outputs": [
    {
     "data": {
      "text/plain": [
       "1.0"
      ]
     },
     "execution_count": 172,
     "metadata": {},
     "output_type": "execute_result"
    }
   ],
   "source": [
    "data['Survived'].quantile(0.98)"
   ]
  },
  {
   "cell_type": "code",
   "execution_count": 173,
   "id": "f3da5f67",
   "metadata": {},
   "outputs": [],
   "source": [
    "data_Survived_win=winsorize(data['Survived'],(0.01,0.02))"
   ]
  },
  {
   "cell_type": "code",
   "execution_count": 174,
   "id": "c91e3ac3",
   "metadata": {},
   "outputs": [
    {
     "data": {
      "text/plain": [
       "masked_array(data=[0, 1, 1, 1, 0, 0, 0, 0, 1, 1, 1, 1, 0, 0, 0, 1, 0, 1,\n",
       "                   0, 1, 0, 1, 1, 1, 0, 1, 0, 0, 1, 0, 0, 1, 1, 0, 0, 0,\n",
       "                   1, 0, 0, 1, 0, 0, 0, 1, 1, 0, 0, 1, 0, 0, 0, 0, 1, 1,\n",
       "                   0, 1, 1, 0, 1, 0, 0, 1, 0, 0, 0, 1, 1, 0, 1, 0, 0, 0,\n",
       "                   0, 0, 1, 0, 0, 0, 1, 1, 0, 1, 1, 0, 1, 1, 0, 0, 1, 0,\n",
       "                   0, 0, 0, 0, 0, 0, 0, 1, 1, 0, 0, 0, 0, 0, 0, 0, 1, 1,\n",
       "                   0, 1, 0, 0, 0, 0, 0, 0, 0, 0, 0, 0, 0, 0, 0, 1, 0, 1,\n",
       "                   0, 1, 1, 0, 0, 0, 0, 1, 0, 0, 1, 0, 0, 0, 0, 1, 1, 0,\n",
       "                   0, 0, 1, 0, 0, 0, 0, 1, 0, 0, 0, 0, 1, 0, 0, 0, 0, 1,\n",
       "                   0, 0, 0, 1, 1, 0, 0, 0, 0, 0, 1, 0, 0, 0, 0, 0, 0, 0,\n",
       "                   0, 0, 0, 1, 1, 0, 1, 1, 0, 0, 1, 0, 1, 1, 1, 1, 0, 0,\n",
       "                   1, 0, 0, 0, 0, 0, 1, 0, 0, 1, 1, 1, 0, 1, 0, 0, 0, 1,\n",
       "                   1, 0, 1, 0, 1, 0, 0, 0, 1, 0, 1, 0, 0, 0, 1, 0, 0, 1,\n",
       "                   0, 0, 0, 1, 0, 0, 0, 1, 0, 0, 0, 0, 0, 1, 1, 0, 0, 0,\n",
       "                   0, 0, 0, 1, 1, 1, 1, 1, 0, 1, 0, 0, 0, 0, 0, 1, 1, 1,\n",
       "                   0, 1, 1, 0, 1, 1, 0, 0, 0, 1, 0, 0, 0, 1, 0, 0, 1, 0,\n",
       "                   1, 1, 1, 1, 0, 0, 0, 0, 0, 0, 1, 1, 1, 1, 0, 1, 0, 1,\n",
       "                   1, 1, 0, 1, 1, 1, 0, 0, 0, 1, 1, 0, 1, 1, 0, 0, 1, 1,\n",
       "                   0, 1, 0, 1, 1, 1, 1, 0, 0, 0, 1, 0, 0, 1, 1, 0, 1, 1,\n",
       "                   0, 0, 0, 1, 1, 1, 1, 0, 0, 0, 0, 0, 0, 0, 1, 0, 1, 1,\n",
       "                   0, 0, 0, 0, 0, 0, 1, 1, 1, 1, 1, 0, 0, 0, 0, 1, 1, 0,\n",
       "                   0, 0, 1, 1, 0, 1, 0, 0, 0, 1, 0, 1, 1, 1, 0, 1, 1, 0,\n",
       "                   0, 0, 0, 1, 1, 0, 0, 0, 0, 0, 0, 1, 0, 0, 0, 0, 1, 0,\n",
       "                   1, 0, 1, 1, 0, 0, 0, 0, 0, 0, 0, 0, 1, 1, 0, 1, 1, 1,\n",
       "                   1, 0, 0, 1, 0, 1, 0, 0, 1, 0, 0, 1, 1, 1, 1, 1, 1, 1,\n",
       "                   0, 0, 0, 1, 0, 1, 0, 1, 1, 0, 1, 0, 0, 0, 0, 0, 0, 0,\n",
       "                   0, 1, 0, 0, 1, 1, 0, 0, 0, 0, 0, 1, 0, 0, 0, 1, 1, 0,\n",
       "                   1, 0, 0, 1, 0, 0, 0, 0, 0, 0, 1, 0, 0, 0, 0, 0, 0, 0,\n",
       "                   1, 0, 1, 1, 0, 1, 1, 0, 1, 1, 0, 0, 1, 0, 1, 0, 1, 0,\n",
       "                   0, 1, 0, 0, 1, 0, 0, 0, 1, 0, 0, 1, 0, 1, 0, 1, 0, 1,\n",
       "                   1, 0, 0, 1, 0, 0, 1, 1, 0, 1, 1, 0, 0, 1, 1, 0, 1, 0,\n",
       "                   1, 1, 0, 0, 0, 0, 0, 0, 0, 0, 0, 1, 1, 1, 1, 1, 0, 0,\n",
       "                   1, 1, 0, 1, 1, 1, 0, 0, 0, 1, 0, 1, 0, 0, 0, 1, 0, 0,\n",
       "                   0, 0, 1, 0, 0, 1, 1, 0, 0, 0, 1, 0, 0, 1, 1, 1, 0, 0,\n",
       "                   1, 0, 0, 1, 0, 0, 1, 0, 0, 1, 1, 0, 0, 0, 0, 1, 0, 0,\n",
       "                   1, 0, 1, 0, 0, 1, 0, 0, 0, 0, 0, 1, 0, 1, 1, 1, 0, 1,\n",
       "                   0, 1, 0, 1, 0, 1, 0, 0, 0, 0, 0, 0, 1, 0, 0, 0, 1, 0,\n",
       "                   0, 0, 0, 1, 1, 0, 0, 1, 0, 0, 0, 1, 0, 1, 0, 1, 0, 0,\n",
       "                   0, 0, 0, 0, 0, 1, 1, 1, 1, 0, 0, 0, 0, 1, 0, 0, 1, 1,\n",
       "                   0, 0, 0, 0, 1, 1, 1, 1, 1, 0, 1, 0, 0, 0, 1, 1, 0, 0,\n",
       "                   1, 0, 0, 0, 1, 0, 1, 1, 0, 0, 1, 0, 0, 0, 0, 0, 0, 1,\n",
       "                   0, 0, 1, 0, 1, 0, 1, 0, 0, 1, 0, 0, 1, 1, 0, 0, 1, 1,\n",
       "                   0, 0, 0, 1, 0, 0, 1, 1, 0, 1, 0, 0, 0, 0, 0, 0, 0, 0,\n",
       "                   1, 0, 0, 1, 0, 1, 1, 1, 0, 0, 0, 0, 1, 0, 1, 0, 0, 0,\n",
       "                   0, 0, 0, 0, 1, 1, 0, 0, 0, 1, 1, 1, 1, 0, 0, 0, 0, 1,\n",
       "                   0, 0, 0, 0, 0, 0, 0, 0, 0, 0, 1, 1, 0, 1, 0, 0, 0, 1,\n",
       "                   1, 1, 1, 1, 0, 0, 0, 1, 0, 0, 1, 1, 0, 0, 1, 0, 0, 0,\n",
       "                   0, 0, 0, 1, 0, 0, 0, 1, 0, 1, 1, 1, 1, 0, 0, 0, 1, 0,\n",
       "                   0, 1, 1, 0, 0, 1, 0, 1, 0, 0, 1, 1, 0, 0, 0, 1, 1, 0,\n",
       "                   0, 0, 0, 0, 0, 1, 0, 1, 0],\n",
       "             mask=False,\n",
       "       fill_value=999999,\n",
       "            dtype=int64)"
      ]
     },
     "execution_count": 174,
     "metadata": {},
     "output_type": "execute_result"
    }
   ],
   "source": [
    "data_Survived_win"
   ]
  },
  {
   "cell_type": "code",
   "execution_count": 175,
   "id": "593442a8",
   "metadata": {},
   "outputs": [
    {
     "data": {
      "text/plain": [
       "<AxesSubplot:>"
      ]
     },
     "execution_count": 175,
     "metadata": {},
     "output_type": "execute_result"
    },
    {
     "data": {
      "image/png": "[encoded data removed]",
      "text/plain": [
       "<Figure size 432x288 with 1 Axes>"
      ]
     },
     "metadata": {
      "needs_background": "light"
     },
     "output_type": "display_data"
    }
   ],
   "source": [
    "sns.boxplot(x=data_Survived_win)"
   ]
  },
  {
   "cell_type": "code",
   "execution_count": 176,
   "id": "ee42ca08",
   "metadata": {},
   "outputs": [
    {
     "data": {
      "text/plain": [
       "0.0"
      ]
     },
     "execution_count": 176,
     "metadata": {},
     "output_type": "execute_result"
    }
   ],
   "source": [
    "data['Fare'].quantile(0.01)"
   ]
  },
  {
   "cell_type": "code",
   "execution_count": 177,
   "id": "a1410f45",
   "metadata": {},
   "outputs": [
    {
     "data": {
      "text/plain": [
       "211.3375"
      ]
     },
     "execution_count": 177,
     "metadata": {},
     "output_type": "execute_result"
    }
   ],
   "source": [
    "data['Fare'].quantile(0.98)"
   ]
  },
  {
   "cell_type": "code",
   "execution_count": 178,
   "id": "4ba2ece8",
   "metadata": {},
   "outputs": [],
   "source": [
    "data_Fare_win=winsorize(data['Fare'],(0.01,0.02))"
   ]
  },
  {
   "cell_type": "code",
   "execution_count": 179,
   "id": "88b5564b",
   "metadata": {},
   "outputs": [
    {
     "data": {
      "text/plain": [
       "masked_array(data=[  7.25  ,  71.2833,   7.925 ,  53.1   ,   8.05  ,\n",
       "                     8.4583,  51.8625,  21.075 ,  11.1333,  30.0708,\n",
       "                    16.7   ,  26.55  ,   8.05  ,  31.275 ,   7.8542,\n",
       "                    16.    ,  29.125 ,  13.    ,  18.    ,   7.225 ,\n",
       "                    26.    ,  13.    ,   8.0292,  35.5   ,  21.075 ,\n",
       "                    31.3875,   7.225 , 211.3375,   7.8792,   7.8958,\n",
       "                    27.7208, 146.5208,   7.75  ,  10.5   ,  82.1708,\n",
       "                    52.    ,   7.2292,   8.05  ,  18.    ,  11.2417,\n",
       "                     9.475 ,  21.    ,   7.8958,  41.5792,   7.8792,\n",
       "                     8.05  ,  15.5   ,   7.75  ,  21.6792,  17.8   ,\n",
       "                    39.6875,   7.8   ,  76.7292,  26.    ,  61.9792,\n",
       "                    35.5   ,  10.5   ,   7.2292,  27.75  ,  46.9   ,\n",
       "                     7.2292,  80.    ,  83.475 ,  27.9   ,  27.7208,\n",
       "                    15.2458,  10.5   ,   8.1583,   7.925 ,   8.6625,\n",
       "                    10.5   ,  46.9   ,  73.5   ,  14.4542,  56.4958,\n",
       "                     7.65  ,   7.8958,   8.05  ,  29.    ,  12.475 ,\n",
       "                     9.    ,   9.5   ,   7.7875,  47.1   ,  10.5   ,\n",
       "                    15.85  ,  34.375 ,   8.05  , 211.3375,   8.05  ,\n",
       "                     8.05  ,   7.8542,  61.175 ,  20.575 ,   7.25  ,\n",
       "                     8.05  ,  34.6542,  63.3583,  23.    ,  26.    ,\n",
       "                     7.8958,   7.8958,  77.2875,   8.6542,   7.925 ,\n",
       "                     7.8958,   7.65  ,   7.775 ,   7.8958,  24.15  ,\n",
       "                    52.    ,  14.4542,   8.05  ,   9.825 ,  14.4583,\n",
       "                     7.925 ,   7.75  ,  21.    , 211.3375,  31.275 ,\n",
       "                    73.5   ,   8.05  ,  30.0708,  13.    ,  77.2875,\n",
       "                    11.2417,   7.75  ,   7.1417,  22.3583,   6.975 ,\n",
       "                     7.8958,   7.05  ,  14.5   ,  26.    ,  13.    ,\n",
       "                    15.0458,  26.2833,  53.1   ,   9.2167,  79.2   ,\n",
       "                    15.2458,   7.75  ,  15.85  ,   6.75  ,  11.5   ,\n",
       "                    36.75  ,   7.7958,  34.375 ,  26.    ,  13.    ,\n",
       "                    12.525 ,  66.6   ,   8.05  ,  14.5   ,   7.3125,\n",
       "                    61.3792,   7.7333,   8.05  ,   8.6625,  69.55  ,\n",
       "                    16.1   ,  15.75  ,   7.775 ,   8.6625,  39.6875,\n",
       "                    20.525 ,  55.    ,  27.9   ,  25.925 ,  56.4958,\n",
       "                    33.5   ,  29.125 ,  11.1333,   7.925 ,  30.6958,\n",
       "                     7.8542,  25.4667,  28.7125,  13.    ,   0.    ,\n",
       "                    69.55  ,  15.05  ,  31.3875,  39.    ,  22.025 ,\n",
       "                    50.    ,  15.5   ,  26.55  ,  15.5   ,   7.8958,\n",
       "                    13.    ,  13.    ,   7.8542,  26.    ,  27.7208,\n",
       "                   146.5208,   7.75  ,   8.4042,   7.75  ,  13.    ,\n",
       "                     9.5   ,  69.55  ,   6.4958,   7.225 ,   8.05  ,\n",
       "                    10.4625,  15.85  ,  18.7875,   7.75  ,  31.    ,\n",
       "                     7.05  ,  21.    ,   7.25  ,  13.    ,   7.75  ,\n",
       "                   113.275 ,   7.925 ,  27.    ,  76.2917,  10.5   ,\n",
       "                     8.05  ,  13.    ,   8.05  ,   7.8958,  90.    ,\n",
       "                     9.35  ,  10.5   ,   7.25  ,  13.    ,  25.4667,\n",
       "                    83.475 ,   7.775 ,  13.5   ,  31.3875,  10.5   ,\n",
       "                     7.55  ,  26.    ,  26.25  ,  10.5   ,  12.275 ,\n",
       "                    14.4542,  15.5   ,  10.5   ,   7.125 ,   7.225 ,\n",
       "                    90.    ,   7.775 ,  14.5   ,  52.5542,  26.    ,\n",
       "                     7.25  ,  10.4625,  26.55  ,  16.1   ,  20.2125,\n",
       "                    15.2458,  79.2   ,  86.5   , 211.3375,  26.    ,\n",
       "                     7.75  ,  31.3875,  79.65  ,   0.    ,   7.75  ,\n",
       "                    10.5   ,  39.6875,   7.775 , 153.4625, 135.6333,\n",
       "                    31.    ,   0.    ,  19.5   ,  29.7   ,   7.75  ,\n",
       "                    77.9583,   7.75  ,   0.    ,  29.125 ,  20.25  ,\n",
       "                     7.75  ,   7.8542,   9.5   ,   8.05  ,  26.    ,\n",
       "                     8.6625,   9.5   ,   7.8958,  13.    ,   7.75  ,\n",
       "                    78.85  ,  91.0792,  12.875 ,   8.85  ,   7.8958,\n",
       "                    27.7208,   7.2292, 151.55  ,  30.5   , 211.3375,\n",
       "                     7.75  ,  23.25  ,   0.    ,  12.35  ,   8.05  ,\n",
       "                   151.55  , 110.8833, 108.9   ,  24.    ,  56.9292,\n",
       "                    83.1583, 211.3375,  26.    ,   7.8958,  26.25  ,\n",
       "                     7.8542,  26.    ,  14.    , 164.8667, 134.5   ,\n",
       "                     7.25  ,   7.8958,  12.35  ,  29.    ,  69.55  ,\n",
       "                   135.6333,   6.2375,  13.    ,  20.525 ,  57.9792,\n",
       "                    23.25  ,  28.5   , 153.4625,  18.    , 133.65  ,\n",
       "                     7.8958,  66.6   , 134.5   ,   8.05  ,  35.5   ,\n",
       "                    26.    , 211.3375,  13.    ,  13.    ,  13.    ,\n",
       "                    13.    ,  13.    ,  16.1   ,  15.9   ,   8.6625,\n",
       "                     9.225 ,  35.    ,   7.2292,  17.8   ,   7.225 ,\n",
       "                     9.5   ,  55.    ,  13.    ,   7.8792,   7.8792,\n",
       "                    27.9   ,  27.7208,  14.4542,   7.05  ,  15.5   ,\n",
       "                     7.25  ,  75.25  ,   7.2292,   7.75  ,  69.3   ,\n",
       "                    55.4417,   6.4958,   8.05  , 135.6333,  21.075 ,\n",
       "                    82.1708,   7.25  , 211.3375,   4.0125,   7.775 ,\n",
       "                   211.3375,  15.7417,   7.925 ,  52.    ,   7.8958,\n",
       "                    73.5   ,  46.9   ,  13.    ,   7.7292,  12.    ,\n",
       "                   120.    ,   7.7958,   7.925 , 113.275 ,  16.7   ,\n",
       "                     7.7958,   7.8542,  26.    ,  10.5   ,  12.65  ,\n",
       "                     7.925 ,   8.05  ,   9.825 ,  15.85  ,   8.6625,\n",
       "                    21.    ,   7.75  ,  18.75  ,   7.775 ,  25.4667,\n",
       "                     7.8958,   6.8583,  90.    ,   0.    ,   7.925 ,\n",
       "                     8.05  ,  32.5   ,  13.    ,  13.    ,  24.15  ,\n",
       "                     7.8958,   7.7333,   7.875 ,  14.4   ,  20.2125,\n",
       "                     7.25  ,  26.    ,  26.    ,   7.75  ,   8.05  ,\n",
       "                    26.55  ,  16.1   ,  26.    ,   7.125 ,  55.9   ,\n",
       "                   120.    ,  34.375 ,  18.75  , 211.3375,  10.5   ,\n",
       "                    26.25  ,   9.5   ,   7.775 ,  13.    ,   8.1125,\n",
       "                    81.8583,  19.5   ,  26.55  ,  19.2583,  30.5   ,\n",
       "                    27.75  ,  19.9667,  27.75  ,  89.1042,   8.05  ,\n",
       "                     7.8958,  26.55  ,  51.8625,  10.5   ,   7.75  ,\n",
       "                    26.55  ,   8.05  ,  38.5   ,  13.    ,   8.05  ,\n",
       "                     7.05  ,   0.    ,  26.55  ,   7.725 ,  19.2583,\n",
       "                     7.25  ,   8.6625,  27.75  ,  13.7917,   9.8375,\n",
       "                    52.    ,  21.    ,   7.0458,   7.5208,  12.2875,\n",
       "                    46.9   ,   0.    ,   8.05  ,   9.5875,  91.0792,\n",
       "                    25.4667,  90.    ,  29.7   ,   8.05  ,  15.9   ,\n",
       "                    19.9667,   7.25  ,  30.5   ,  49.5042,   8.05  ,\n",
       "                    14.4583,  78.2667,  15.1   , 151.55  ,   7.7958,\n",
       "                     8.6625,   7.75  ,   7.6292,   9.5875,  86.5   ,\n",
       "                   108.9   ,  26.    ,  26.55  ,  22.525 ,  56.4958,\n",
       "                     7.75  ,   8.05  ,  26.2875,  59.4   ,   7.4958,\n",
       "                    34.0208,  10.5   ,  24.15  ,  26.    ,   7.8958,\n",
       "                    93.5   ,   7.8958,   7.225 ,  57.9792,   7.2292,\n",
       "                     7.75  ,  10.5   , 211.3375,   7.925 ,  11.5   ,\n",
       "                    26.    ,   7.2292,   7.2292,  22.3583,   8.6625,\n",
       "                    26.25  ,  26.55  , 106.425 ,  14.5   ,  49.5   ,\n",
       "                    71.    ,  31.275 ,  31.275 ,  26.    , 106.425 ,\n",
       "                    26.    ,  26.    ,  13.8625,  20.525 ,  36.75  ,\n",
       "                   110.8833,  26.    ,   7.8292,   7.225 ,   7.775 ,\n",
       "                    26.55  ,  39.6   , 211.3375,  79.65  ,  17.4   ,\n",
       "                     7.75  ,   7.8958,  13.5   ,   8.05  ,   8.05  ,\n",
       "                    24.15  ,   7.8958,  21.075 ,   7.2292,   7.8542,\n",
       "                    10.5   ,  51.4792,  26.3875,   7.75  ,   8.05  ,\n",
       "                    14.5   ,  13.    ,  55.9   ,  14.4583,   7.925 ,\n",
       "                    30.    , 110.8833,  26.    ,  40.125 ,   8.7125,\n",
       "                    79.65  ,  15.    ,  79.2   ,   8.05  ,   8.05  ,\n",
       "                     7.125 ,  78.2667,   7.25  ,   7.75  ,  26.    ,\n",
       "                    24.15  ,  33.    ,   0.    ,   7.225 ,  56.9292,\n",
       "                    27.    ,   7.8958,  42.4   ,   8.05  ,  26.55  ,\n",
       "                    15.55  ,   7.8958,  30.5   ,  41.5792, 153.4625,\n",
       "                    31.275 ,   7.05  ,  15.5   ,   7.75  ,   8.05  ,\n",
       "                    65.    ,  14.4   ,  16.1   ,  39.    ,  10.5   ,\n",
       "                    14.4542,  52.5542,  15.7417,   7.8542,  16.1   ,\n",
       "                    32.3208,  12.35  ,  77.9583,   7.8958,   7.7333,\n",
       "                    30.    ,   7.0542,  30.5   ,   0.    ,  27.9   ,\n",
       "                    13.    ,   7.925 ,  26.25  ,  39.6875,  16.1   ,\n",
       "                     7.8542,  69.3   ,  27.9   ,  56.4958,  19.2583,\n",
       "                    76.7292,   7.8958,  35.5   ,   7.55  ,   7.55  ,\n",
       "                     7.8958,  23.    ,   8.4333,   7.8292,   6.75  ,\n",
       "                    73.5   ,   7.8958,  15.5   ,  13.    , 113.275 ,\n",
       "                   133.65  ,   7.225 ,  25.5875,   7.4958,   7.925 ,\n",
       "                    73.5   ,  13.    ,   7.775 ,   8.05  ,  52.    ,\n",
       "                    39.    ,  52.    ,  10.5   ,  13.    ,   0.    ,\n",
       "                     7.775 ,   8.05  ,   9.8417,  46.9   , 211.3375,\n",
       "                     8.1375,  76.7292,   9.225 ,  46.9   ,  39.    ,\n",
       "                    41.5792,  39.6875,  10.1708,   7.7958, 211.3375,\n",
       "                    57.    ,  13.4167,  56.4958,   7.225 ,  26.55  ,\n",
       "                    13.5   ,   8.05  ,   7.7333, 110.8833,   7.65  ,\n",
       "                   211.3375,  26.2875,  14.4542,   7.7417,   7.8542,\n",
       "                    26.    ,  13.5   ,  26.2875, 151.55  ,  15.2458,\n",
       "                    49.5042,  26.55  ,  52.    ,   9.4833,  13.    ,\n",
       "                     7.65  , 211.3375,  10.5   ,  15.5   ,   7.775 ,\n",
       "                    33.    ,   7.0542,  13.    ,  13.    ,  53.1   ,\n",
       "                     8.6625,  21.    ,   7.7375,  26.    ,   7.925 ,\n",
       "                   211.3375,  18.7875,   0.    ,  13.    ,  13.    ,\n",
       "                    16.1   ,  34.375 , 211.3375,   7.8958,   7.8958,\n",
       "                    30.    ,  78.85  , 211.3375,  16.1   ,   7.925 ,\n",
       "                    71.    ,  20.25  ,  13.    ,  53.1   ,   7.75  ,\n",
       "                    23.    ,  12.475 ,   9.5   ,   7.8958,  65.    ,\n",
       "                    14.5   ,   7.7958,  11.5   ,   8.05  ,  86.5   ,\n",
       "                    14.5   ,   7.125 ,   7.2292, 120.    ,   7.775 ,\n",
       "                    77.9583,  39.6   ,   7.75  ,  24.15  ,   8.3625,\n",
       "                     9.5   ,   7.8542,  10.5   ,   7.225 ,  23.    ,\n",
       "                     7.75  ,   7.75  ,  12.475 ,   7.7375, 211.3375,\n",
       "                     7.2292,  57.    ,  30.    ,  23.45  ,   7.05  ,\n",
       "                     7.25  ,   7.4958,  29.125 ,  20.575 ,  79.2   ,\n",
       "                     7.75  ,  26.    ,  69.55  ,  30.6958,   7.8958,\n",
       "                    13.    ,  25.9292,   8.6833,   7.2292,  24.15  ,\n",
       "                    13.    ,  26.25  , 120.    ,   8.5167,   6.975 ,\n",
       "                     7.775 ,   0.    ,   7.775 ,  13.    ,  53.1   ,\n",
       "                     7.8875,  24.15  ,  10.5   ,  31.275 ,   8.05  ,\n",
       "                     0.    ,   7.925 ,  37.0042,   6.45  ,  27.9   ,\n",
       "                    93.5   ,   8.6625,   0.    ,  12.475 ,  39.6875,\n",
       "                     6.95  ,  56.4958,  37.0042,   7.75  ,  80.    ,\n",
       "                    14.4542,  18.75  ,   7.2292,   7.8542,   8.3   ,\n",
       "                    83.1583,   8.6625,   8.05  ,  56.4958,  29.7   ,\n",
       "                     7.925 ,  10.5   ,  31.    ,   6.4375,   8.6625,\n",
       "                     7.55  ,  69.55  ,   7.8958,  33.    ,  89.1042,\n",
       "                    31.275 ,   7.775 ,  15.2458,  39.4   ,  26.    ,\n",
       "                     9.35  , 164.8667,  26.55  ,  19.2583,   7.2292,\n",
       "                    14.1083,  11.5   ,  25.9292,  69.55  ,  13.    ,\n",
       "                    13.    ,  13.8583,  50.4958,   9.5   ,  11.1333,\n",
       "                     7.8958,  52.5542,   5.    ,   9.    ,  24.    ,\n",
       "                     7.225 ,   9.8458,   7.8958,   7.8958,  83.1583,\n",
       "                    26.    ,   7.8958,  10.5167,  10.5   ,   7.05  ,\n",
       "                    29.125 ,  13.    ,  30.    ,  23.45  ,  30.    ,\n",
       "                     7.75  ],\n",
       "             mask=False,\n",
       "       fill_value=1e+20)"
      ]
     },
     "execution_count": 179,
     "metadata": {},
     "output_type": "execute_result"
    }
   ],
   "source": [
    "data_Fare_win"
   ]
  },
  {
   "cell_type": "code",
   "execution_count": 180,
   "id": "be3ddfe7",
   "metadata": {},
   "outputs": [
    {
     "data": {
      "text/plain": [
       "<AxesSubplot:>"
      ]
     },
     "execution_count": 180,
     "metadata": {},
     "output_type": "execute_result"
    },
    {
     "data": {
      "image/png": "[encoded data removed]",
      "text/plain": [
       "<Figure size 432x288 with 1 Axes>"
      ]
     },
     "metadata": {
      "needs_background": "light"
     },
     "output_type": "display_data"
    }
   ],
   "source": [
    "sns.boxplot(x=data_Fare_win)"
   ]
  },
  {
   "cell_type": "markdown",
   "id": "62aef2c7",
   "metadata": {},
   "source": [
    "# 6.Do min max scaling on the feature set (Take ‘Survived’ as target)"
   ]
  },
  {
   "cell_type": "code",
   "execution_count": 181,
   "id": "573eafaa",
   "metadata": {},
   "outputs": [],
   "source": [
    "from sklearn.preprocessing import MinMaxScaler"
   ]
  },
  {
   "cell_type": "code",
   "execution_count": 182,
   "id": "828d9d1f",
   "metadata": {},
   "outputs": [
    {
     "name": "stdout",
     "output_type": "stream",
     "text": [
      "[[0.         0.         1.         ... 0.         0.01415106 0.        ]\n",
      " [0.0011236  1.         0.         ... 0.         0.13913574 0.        ]\n",
      " [0.00224719 1.         1.         ... 0.         0.01546857 0.        ]\n",
      " ...\n",
      " [0.99775281 0.         1.         ... 0.33333333 0.04577135 0.        ]\n",
      " [0.9988764  1.         0.         ... 0.         0.0585561  0.        ]\n",
      " [1.         0.         1.         ... 0.         0.01512699 0.        ]]\n"
     ]
    }
   ],
   "source": [
    "scaler=MinMaxScaler(copy=True,feature_range=(0,1))\n",
    "X=scaler.fit_transform(data.select_dtypes(np.number))\n",
    "print(X)"
   ]
  },
  {
   "cell_type": "code",
   "execution_count": null,
   "id": "c86894e7",
   "metadata": {},
   "outputs": [],
   "source": []
  },
  {
   "cell_type": "code",
   "execution_count": null,
   "id": "b9cf987a",
   "metadata": {},
   "outputs": [],
   "source": []
  }
 ],
 "metadata": {
  "kernelspec": {
   "display_name": "Python 3",
   "language": "python",
   "name": "python3"
  },
  "language_info": {
   "codemirror_mode": {
    "name": "ipython",
    "version": 3
   },
   "file_extension": ".py",
   "mimetype": "text/x-python",
   "name": "python",
   "nbconvert_exporter": "python",
   "pygments_lexer": "ipython3",
   "version": "3.8.8"
  }
 },
 "nbformat": 4,
 "nbformat_minor": 5
}
